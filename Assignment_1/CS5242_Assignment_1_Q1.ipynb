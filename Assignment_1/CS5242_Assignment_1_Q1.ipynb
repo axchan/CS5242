{
 "cells": [
  {
   "cell_type": "markdown",
   "metadata": {},
   "source": [
    "# Assignment 1 Q1\n",
    "\n",
    "**Codes and notes for CS5242 Assignment 1 Q1**\n",
    "\n",
    "Import python libraries"
   ]
  },
  {
   "cell_type": "code",
   "execution_count": null,
   "metadata": {
    "collapsed": true
   },
   "outputs": [],
   "source": [
    "from __future__ import division\n",
    "import numpy as np\n",
    "import re\n",
    "import csv\n",
    "import os"
   ]
  },
  {
   "cell_type": "markdown",
   "metadata": {},
   "source": [
    "## Parse input weights and bias files, analyse and write output files"
   ]
  },
  {
   "cell_type": "code",
   "execution_count": 29,
   "metadata": {
    "collapsed": false
   },
   "outputs": [
    {
     "name": "stdout",
     "output_type": "stream",
     "text": [
      "a_dif: 5.79082075805e-08\n",
      "b_dif: 5.2484279573e-08\n",
      "c_dif: 6.17209623461e-08\n",
      "d_dif: 6.26593266465e-08\n",
      "e_dif: 6.90121697176e-08\n"
     ]
    }
   ],
   "source": [
    "data_point = np.array([-1., 1., 1., 1., -1.], dtype=np.float32).reshape(-1,1)\n",
    "\n",
    "def feedforward(input_x, weight, bias):\n",
    "    return np.dot(weight, input_x) + bias\n",
    "\n",
    "for folder in ['a', 'b', 'c', 'd', 'e']:\n",
    "\n",
    "    given_w_file = './Question_1/{f}/{f}_w.csv'.format(f=folder)\n",
    "    given_b_file = './Question_1/{f}/{f}_b.csv'.format(f=folder)\n",
    "    \n",
    "    given_w = {}\n",
    "    num_layers = 0\n",
    "    with open(given_w_file, 'rb') as fhandle:\n",
    "        for line in csv.reader(fhandle):\n",
    "            l_minus1, l = map(int, re.findall('layer(\\d+)', line[0]))\n",
    "            try:\n",
    "                given_w[l_minus1].append(map(np.float32, line[1:]))\n",
    "            except:\n",
    "                given_w[l_minus1] = [map(np.float32, line[1:])]\n",
    "            num_layers = int(l)\n",
    "    given_w = [np.array(given_w[l]).transpose() for l in sorted(given_w.keys())]\n",
    "    \n",
    "    given_b = {}\n",
    "    with open(given_b_file, 'rb') as fhandle:\n",
    "        for line in csv.reader(fhandle):\n",
    "            l = int(re.search('layer(\\d+)', line[0]).group(1))\n",
    "            given_b[l] = np.array(line[1:], dtype=np.float32).reshape(-1, 1)\n",
    "    given_b = [given_b[l] for l in sorted(given_b.keys())]\n",
    "    \n",
    "    W = np.dot(given_w[2], np.dot(given_w[1], given_w[0]))\n",
    "    \n",
    "    B = given_b[2] + np.dot(given_w[2], given_b[1]) + np.dot(given_w[2], np.dot(given_w[1], given_b[0]))\n",
    "       \n",
    "    # for checking \n",
    "    Z = np.dot(W, data_point) + B\n",
    "    z = data_point\n",
    "    for b, w in zip(given_b, given_w):\n",
    "        # feedforward to get weighted input and activation\n",
    "        z = feedforward(z, w, b)\n",
    "\n",
    "    dif = np.mean(np.abs(Z-z).astype(float)/np.abs(0.1+z))\n",
    "    print ('{}_dif: {}'.format(folder, dif))\n",
    "    \n",
    "    # write to csv output \n",
    "    with open('{}-b.csv'.format(folder), 'wb') as output:\n",
    "        np.savetxt(output, B.transpose(), delimiter=',', fmt='%1.16f')\n",
    "    \n",
    "    with open('{}-w.csv'.format(folder), 'wb') as output:\n",
    "        np.savetxt(output, W.transpose(), delimiter=',', fmt='%1.16f')"
   ]
  },
  {
   "cell_type": "code",
   "execution_count": null,
   "metadata": {
    "collapsed": true
   },
   "outputs": [],
   "source": []
  }
 ],
 "metadata": {
  "kernelspec": {
   "display_name": "Python 2",
   "language": "python",
   "name": "python2"
  },
  "language_info": {
   "codemirror_mode": {
    "name": "ipython",
    "version": 2
   },
   "file_extension": ".py",
   "mimetype": "text/x-python",
   "name": "python",
   "nbconvert_exporter": "python",
   "pygments_lexer": "ipython2",
   "version": "2.7.13"
  }
 },
 "nbformat": 4,
 "nbformat_minor": 2
}
